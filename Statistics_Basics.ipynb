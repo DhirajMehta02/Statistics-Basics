{
  "nbformat": 4,
  "nbformat_minor": 0,
  "metadata": {
    "colab": {
      "provenance": []
    },
    "kernelspec": {
      "name": "python3",
      "display_name": "Python 3"
    },
    "language_info": {
      "name": "python"
    }
  },
  "cells": [
    {
      "cell_type": "markdown",
      "source": [
        "# Statistics Basics"
      ],
      "metadata": {
        "id": "iIvlfUw90PnW"
      }
    },
    {
      "cell_type": "markdown",
      "source": [
        "1. What is statistics, and why is it important?\n",
        "-  Statistics is the branch of mathematics that deals with collecting, analyzing, interpreting, and presenting data. It allows us to make sense of numbers, spot patterns, and draw informed conclusions. Whether it’s understanding election results, predicting weather patterns, or analyzing business trends, statistics plays a crucial role in organizing and interpreting information effectively.\n",
        "-  Importance\n",
        " - Decision Making: Businesses and governments rely on statistics to guide policies and strategies.\n",
        " - Scientific Research: It helps researchers validate hypotheses and uncover meaningful insights.\n",
        " - Medicine & Healthcare: Statistics aids in tracking diseases, testing treatments, and improving patient care.\n",
        " - Sports & Entertainment: It’s used to evaluate player performance, predict outcomes, and enhance strategy.\n",
        " - Daily Life: From budgeting personal expenses to understanding probabilities in everyday choices, statistics is embedded in our routines.\n"
      ],
      "metadata": {
        "id": "8098fmqi0U-h"
      }
    },
    {
      "cell_type": "markdown",
      "source": [
        "5. What are the two main types of statistics?\n",
        "-  Statistics is broadly divided into descriptive statistics and inferential statistics:\n",
        " 1. Descriptive Statistics – This involves summarizing and organizing data in a meaningful way. It includes measures like:\n",
        " - Mean, Median, and Mode – Indicate central tendency.\n",
        " - Standard Deviation & Variance – Show data spread.\n",
        " - Charts & Graphs – Visually represent patterns and trends.\n",
        " 2. Inferential Statistics – This goes beyond simply describing the data and helps make predictions or draw conclusions about a larger population based on a sample. It includes:\n",
        " - Hypothesis Testing – Determines if a claim about the data is valid.\n",
        " - Regression Analysis – Examines relationships between variables.\n",
        " - Confidence Intervals – Estimates population parameters.\n",
        "Descriptive statistics provide a snapshot of the data, while inferential statistics help us make broader conclusions."
      ],
      "metadata": {
        "id": "cuhIeffS15yc"
      }
    },
    {
      "cell_type": "markdown",
      "source": [
        "3. What are descriptive statistics?\n",
        "-  Descriptive statistics focus on summarizing and organizing data to make it easy to understand. Instead of analyzing data for predictions, it simply describes the characteristics of a dataset.\n",
        "Some key components of descriptive statistics include:\n",
        "- Measures of Central Tendency: These indicate the typical value in a dataset.\n",
        " - Mean (average)\n",
        " - Median (middle value)\n",
        " - Mode (most frequent value)\n",
        "- Measures of Dispersion: These show how data is spread out.\n",
        " - Range (difference between the highest and lowest values)\n",
        " - Variance (how much data points differ from the mean)\n",
        " - Standard Deviation (average distance of each data point from the mean)\n",
        "- Data Visualization: Graphs and charts make data more accessible.\n",
        " - Histograms (show frequency distribution)\n",
        " - Pie Charts (depict proportions)\n",
        " - Box Plots (highlight variability)\n"
      ],
      "metadata": {
        "id": "N7D8QG3o3VNw"
      }
    },
    {
      "cell_type": "markdown",
      "source": [
        "4. What is inferential statistics?\n",
        "-  Inferential statistics is the branch of statistics that allows us to make predictions, decisions, or conclusions about a larger population based on a sample of data. Unlike descriptive statistics, which simply summarize data, inferential statistics help us go beyond the available data to make informed judgments.\n",
        "Key components of inferential statistics include:\n",
        " - Hypothesis Testing – Determines if a claim about a population is supported by sample data.\n",
        " - Confidence Intervals – Estimates a range within which a  population parameter is likely to fall.\n",
        " - Regression Analysis – Examines relationships between variables to make predictions.\n",
        " - Sampling Techniques – Uses random samples to infer properties of the entire population.\n"
      ],
      "metadata": {
        "id": "YP6hOj1h3w72"
      }
    },
    {
      "cell_type": "markdown",
      "source": [
        "5. What is sampling in statistics?\n",
        "-  Sampling in statistics is the process of selecting a subset of individuals or items from a larger population to analyze and draw conclusions. Since studying an entire population is often impractical, sampling helps researchers make accurate estimates while saving time and resources.\n",
        "\n",
        "There are two main types of sampling:\n",
        " 1. Probability Sampling – Every individual has a known chance of being selected.\n",
        " - Simple Random Sampling: Each member of the population has an equal chance of selection.\n",
        " - Stratified Sampling: The population is divided into groups, and samples are taken from each.\n",
        " - Cluster Sampling: The population is split into clusters, and a few clusters are selected for study.\n",
        " - Systematic Sampling: Every nth individual in the population is chosen.\n",
        " 2. Non-Probability Sampling – Selection is based on convenience or judgment rather than random chance.\n",
        " - Convenience Sampling: Uses easily accessible individuals.\n",
        " - Purposive Sampling: Selects individuals based on specific criteria.\n",
        " - Snowball Sampling: Participants refer others for inclusion\n"
      ],
      "metadata": {
        "id": "dKz_bAUh4BDv"
      }
    },
    {
      "cell_type": "markdown",
      "source": [
        "6. What are the different types of sampling methods?\n",
        "-  Sampling methods are categorized into probability sampling and non-probability sampling, depending on whether each member of the population has a known chance of being selected.\n",
        " 1. Probability Sampling (Random Selection – Ensures Representativeness)\n",
        "This approach ensures that every individual has a known chance of being selected, reducing bias.\n",
        " - Simple Random Sampling: Each member has an equal chance of selection, like drawing names from a hat.\n",
        " - Stratified Sampling: The population is divided into groups (strata), and samples are taken from each to ensure diversity.\n",
        " - Cluster Sampling: The population is split into clusters, and a few clusters are randomly selected for study.\n",
        " - Systematic Sampling: Every nth individual is selected from a list (e.g., selecting every 5th person).\n",
        " - Multistage Sampling: Combines different probability methods in multiple stages for complex studies.\n",
        " 2. Non-Probability Sampling (Non-Random Selection – Can Introduce Bias)\n",
        "This method relies on subjective selection rather than randomization, making it useful for exploratory research.\n",
        " - Convenience Sampling: Selecting participants who are easy to access.\n",
        " - Purposive Sampling: Choosing individuals based on specific characteristics or expertise.\n",
        " - Quota Sampling: Ensuring proportional representation of subgroups without random selection.\n",
        " - Snowball Sampling: Existing participants help recruit others (useful for hard-to-reach populations).\n"
      ],
      "metadata": {
        "id": "PimVP4kh4hAH"
      }
    },
    {
      "cell_type": "markdown",
      "source": [
        "7. What is the difference between random and non-random sampling?\n",
        "-  The key difference between random sampling and non-random sampling lies in how participants or data points are selected.\n",
        " - Random Sampling (Probability Sampling)\n",
        "- Every individual has a known and equal chance of being chosen.\n",
        "- Reduces bias and ensures a representative sample.\n",
        "- Examples:\n",
        "- Simple Random Sampling: Selecting participants purely by chance.\n",
        "- Stratified Sampling: Dividing the population into subgroups and selecting randomly from each.\n",
        "- Cluster Sampling: Selecting entire groups instead of individuals.\n",
        "- Systematic Sampling: Choosing every nth participant in a list.\n",
        " - Non-Random Sampling (Non-Probability Sampling)\n",
        "- Selection is based on convenience, judgment, or criteria, rather than pure chance.\n",
        "- Can lead to bias and may not represent the entire population accurately.\n",
        "- Examples:\n",
        "- Convenience Sampling: Selecting participants who are easy to access.\n",
        "- Purposive Sampling: Picking individuals with specific characteristics.\n",
        "- Snowball Sampling: Participants refer others for inclusion.\n",
        "- Quota Sampling: Ensuring proportional representation but without random selection.\n"
      ],
      "metadata": {
        "id": "GIu5T3rK43iU"
      }
    },
    {
      "cell_type": "markdown",
      "source": [
        "8. Define and give examples of qualitative and quantitative data.\n",
        "-  Qualitative and quantitative data are two fundamental types of data used in research and analysis.\n",
        "Qualitative Data (Descriptive & Non-Numerical)\n",
        "Qualitative data describes attributes, characteristics, or qualities that cannot be measured numerically. It is often subjective and obtained through observations, interviews, or surveys.\n",
        " - Examples:\n",
        "    - Colors of cars in a parking lot (e.g., red, blue, white)\n",
        "    - Customer reviews (e.g., \"excellent service,\" \"bad experience\")\n",
        "    - Types of music genres people prefer (e.g., rock, jazz, classical)\n",
        "    - Eye color (e.g., brown, blue, green)\n",
        "    - Reasons people give for preferring a product over another\n",
        "- Quantitative Data (Numerical & Measurable)\n",
        "Quantitative data consists of numerical values that can be measured or counted. It is objective and analyzed using mathematical or statistical techniques.\n",
        " - Examples:\n",
        "   - Height of individuals (e.g., 170 cm, 165 cm)\n",
        "   - Temperature readings (e.g., 25°C, 30°C)\n",
        "   - Sales figures (e.g., 500 units sold, $10,000 revenue)\n",
        "   - Test scores (e.g., 85%, 90%)\n",
        "   - Number of customers visiting a store daily\n",
        "\n",
        "Quantitative data is useful for statistical analysis, while qualitative data helps provide deeper insights into behaviors, perceptions, and characteristics. Both types play a crucial role in research, business, and everyday decision-making.\n"
      ],
      "metadata": {
        "id": "_RsRnwWj5SDW"
      }
    },
    {
      "cell_type": "markdown",
      "source": [
        "9.What are the different types of data in statistics?\n",
        "-  In statistics, data is broadly classified into two main types: qualitative and quantitative, and each has subcategories.\n",
        " 1. Qualitative Data (Categorical Data)\n",
        "This type of data describes characteristics, attributes, or categories without numerical values. It is typically classified into:\n",
        " - Nominal Data: Labels or names without any specific order.\n",
        " - Examples: Gender (Male, Female), Colors (Red, Blue, Green), Blood Type (A, B, AB, O).\n",
        " - Ordinal Data: Ordered categories with no precise numerical difference between them.\n",
        "    - Examples: Education Level (High School, Bachelor's, Master's), Customer Satisfaction (Very Happy, Happy, Neutral, Unhappy).\n",
        " 2. Quantitative Data (Numerical Data)\n",
        "This data consists of numerical values that can be measured and analyzed mathematically. It is divided into:\n",
        " - Discrete Data: Countable numbers with no fractions or decimals.\n",
        "    - Examples: Number of students in a class (30, 42), Number of cars in a parking lot (10, 15).\n",
        " - Continuous Data: Measurable quantities that can take any value within a range.\n",
        "    - Examples: Height (170.5 cm), Temperature (25.3°C), Weight (65.7 kg).\n"
      ],
      "metadata": {
        "id": "42Mv_utF51RZ"
      }
    },
    {
      "cell_type": "markdown",
      "source": [
        "10. Explain nominal, ordinal, interval, and ratio levels of measurement.\n",
        "-  The four levels of measurement—nominal, ordinal, interval, and ratio—define how data is categorized, ordered, and analyzed in statistics. Each level has distinct characteristics and determines the types of statistical analysis that can be performed.\n",
        "1. Nominal Level (Categorical Data - No Order)\n",
        " - Consists of labels or names without any intrinsic order.\n",
        " - Can be counted but not ranked or measured numerically.\n",
        "\n",
        "2. Ordinal Level (Categorical Data - Ordered)\n",
        " - Data is ranked or arranged in order, but differences between values are not measurable or consistent.\n",
        " - Used when data has a hierarchical structure but lacks precise numerical differences.\n",
        "\n",
        "3. Interval Level (Numerical Data - Ordered, No True Zero)\n",
        " - Numeric values with measurable differences, but no true zero point (zero does not mean absence).\n",
        " - Allows for addition and subtraction, but ratios are not meaningful.\n",
        "\n",
        "4. Ratio Level (Numerical Data - Ordered, True Zero Exists)\n",
        " - Contains all interval properties, but with a true zero point, making ratios meaningful.\n",
        " - Supports all mathematical operations, including multiplication and division.\n",
        "\n"
      ],
      "metadata": {
        "id": "qU3MdD116S1V"
      }
    },
    {
      "cell_type": "markdown",
      "source": [
        "11. What is the measure of central tendency?\n",
        "-  The measure of central tendency refers to statistical methods used to determine the center or typical value of a dataset. These measures help summarize and represent data in a meaningful way.\n",
        "\n",
        "The three main measures are:\n",
        " 1. Mean (Average): The sum of all values divided by the number of values.\n",
        "\n",
        " 2. Median (Middle Value): The middle number when data is arranged in ascending order.\n",
        "- If there's an even number of values, the median is the average of the two middle values.\n",
        "\n",
        " 3. Mode (Most Frequent Value): The value that appears most often in the dataset.\n",
        "\n",
        "Each measure is useful depending on the type and distribution of data. The mean is sensitive to extreme values, while the median is more robust when dealing with outliers. The mode is useful in categorical data analysis.\n"
      ],
      "metadata": {
        "id": "72ps7tev62T0"
      }
    },
    {
      "cell_type": "markdown",
      "source": [
        "12. Define mean, median, and mode?\n",
        "-  The mean, median, and mode are three fundamental measures of central tendency used to summarize and describe data.\n",
        "1. Mean (Average)\n",
        "- The mean is calculated by adding all values in a dataset and dividing by the total number of values.\n",
        "- It represents the average and is useful for numerical data analysis.\n",
        " - Example: If test scores are [75, 80, 85], the mean = (75 + 80 + 85) / 3 = 80.\n",
        "2. Median (Middle Value)\n",
        "- The median is the middle number when data is arranged in ascending or descending order.\n",
        "- If there’s an even number of values, the median is the average of the two middle values.\n",
        " - Example: For [12, 15, 18, 20, 25], the median is 18.\n",
        "3. Mode (Most Frequent Value)\n",
        "- The mode is the value that appears most frequently in a dataset.\n",
        "- A dataset can have one mode (unimodal), two modes (bimodal), or no mode if all values occur equally.\n",
        " - Example: For [3, 3, 4, 5, 6], the mode is 3.\n"
      ],
      "metadata": {
        "id": "NGVVJM2I7kvT"
      }
    },
    {
      "cell_type": "markdown",
      "source": [
        "13. What is the significance of the measure of central tendency?\n",
        "-  The measure of central tendency is significant because it helps summarize and represent a dataset with a single value that best describes its center. It provides essential insights into the distribution and typical value of data, making analysis easier and more meaningful.\n",
        "\n",
        "\n",
        "Importance of Central Tendency:\n",
        " 1. Simplifies Complex Data: Large datasets can be overwhelming, but measures like mean, median, and mode simplify them by highlighting key trends.\n",
        " 2. Comparison & Decision-Making: Businesses, researchers, and policymakers use central tendency to compare trends and make informed decisions.\n",
        " 3. Foundation for Further Analysis: It serves as a starting point for deeper statistical evaluations, such as variability and probability analysis.\n",
        " 4. Identifying Patterns: Helps in detecting anomalies, shifts, or trends within the data, crucial for forecasting and problem-solving.\n",
        " 5. Real-World Applications:\n",
        "- Education: Average test scores help assess student performance.\n",
        "- Healthcare: Median recovery time guides treatment plans.\n",
        "- Finance: Mode of customer purchases influences product stocking.\n",
        "Would you like an example of how central tendency is used in a specific industry or study?\n"
      ],
      "metadata": {
        "id": "xy_M4QC274zT"
      }
    },
    {
      "cell_type": "markdown",
      "source": [
        "14. What is variance, and how is it calculated?\n",
        "-  Variance is a statistical measure that quantifies the spread or dispersion of a set of data points. It essentially tells you how much the values in a dataset deviate from the mean. To calculate variance, you first find the mean of the data, then calculate the difference between each data point and the mean, square these differences, and finally, find the average of these squared differences.\n",
        "\n",
        "Here's a more detailed breakdown:\n",
        " 1. Calculate the Mean: Find the average of all the numbers in your dataset.\n",
        " 2. Calculate Deviations: For each number in the dataset, subtract the mean from it. These are the deviations.\n",
        " 3. Square the Deviations: Square each of the deviations calculated in the previous step.\n",
        " 4. Calculate the Average of Squared Deviations: Add up all the squared deviations and divide by either the number of data points (for population variance) or the number of data points minus 1 (for sample variance).\n",
        "- Population Variance: This is calculated by dividing the sum of squared deviations by the total number of data points (N).\n",
        "- Sample Variance: This is calculated by dividing the sum of squared deviations by the number of data points minus 1 (n-1). This is done to provide a more accurate estimate of the population variance from a sample"
      ],
      "metadata": {
        "id": "gNQ2jWuH8ov1"
      }
    },
    {
      "cell_type": "markdown",
      "source": [
        "15. What is standard deviation, and why is it important?\n",
        "-  Standard deviation is a statistical measure that indicates the spread or dispersion of a dataset around its mean. It quantifies how much individual data points deviate from the average value. A low standard deviation means data points are tightly clustered around the mean, while a high standard deviation indicates a wider spread.\n",
        "\n",
        "Why is it important?\n",
        "- Measuring Variability:\n",
        "Standard deviation helps understand how much variation exists within a dataset.\n",
        "- Data Distribution:\n",
        "It provides insights into how data points are distributed, helping determine if they are tightly grouped or spread out.\n",
        "- Identifying Outliers:\n",
        "A large standard deviation can help identify outliers or extreme values that are significantly different from the average.\n",
        "- Risk Assessment:\n",
        "In finance and other fields, standard deviation is used to measure risk, as it reflects the volatility or variation in data.\n",
        "- Consistency and Quality:\n",
        "In manufacturing and other industries, a low standard deviation indicates consistency and quality, as variations are minimized.\n",
        "- Statistical Inference:\n",
        "Standard deviation is crucial for statistical inference, enabling the calculation of confidence intervals and the testing of hypotheses"
      ],
      "metadata": {
        "id": "eGlUqNVK9NaX"
      }
    },
    {
      "cell_type": "markdown",
      "source": [
        "16. Define and explain the term range in statistics.\n",
        "-  In statistics, the range is the difference between the highest and lowest values in a dataset. It's a measure of variability, indicating the spread of the data. A large range suggests a wide spread of data points, while a small range indicates the data points are clustered together.\n",
        " - Calculation:\n",
        "     1. Identify the highest value (maximum) in the dataset.\n",
        "     2. Identify the lowest value (minimum) in the dataset.\n",
        "     3. Subtract the minimum value from the maximum value.\n",
        "    - Range = Maximum Value - Minimum Value\n",
        " - Example:\n",
        "If a dataset is {2, 4, 6, 8, 12}, the range is 12 - 2 = 10.\n",
        "If a dataset is {10, 15, 20, 25}, the range is 25 - 10 = 15."
      ],
      "metadata": {
        "id": "0jSZL-VO9las"
      }
    },
    {
      "cell_type": "markdown",
      "source": [
        "17. What is the difference between variance and standard deviation?\n",
        "-  Variance and standard deviation are both measures of data spread, but they differ in how they're calculated and what they represent. Variance is the average of the squared differences from the mean, while standard deviation is the square root of the variance.\n",
        "\n",
        "Here's a more detailed breakdown:\n",
        "- Variance:\n",
        " - Measures the average squared distance of each data point from the mean.\n",
        " - Expresses spread in squared units (e.g., meters squared).\n",
        " - Useful for understanding the overall spread of data, but less interpretable in the original units of the data.\n",
        "- Standard Deviation:\n",
        " - Measures the average distance of each data point from the mean, taking the square root of the variance.\n",
        " - Expresses spread in the same units as the original data (e.g., meters).\n",
        " - More interpretable than variance, as it's in the original units of the data."
      ],
      "metadata": {
        "id": "t5T0NkRV-L_N"
      }
    },
    {
      "cell_type": "markdown",
      "source": [
        "18. What is skewness in a dataset?\n",
        "-  Skewness in a dataset refers to the asymmetry or lack of symmetry in the distribution of data points around the mean. It describes how the data is spread out, with a skewed distribution having a longer tail on one side compared to the other. A normal distribution, or bell curve, is symmetrical, with the mean, median, and mode all being equal. Skewness indicates how much a distribution deviates from this symmetry.\n",
        "\n",
        "Types of Skewness:\n",
        "- Positive Skewness (Right Skew):\n",
        "The tail on the right side of the distribution is longer and fatter than the left side. In this case, the mean is greater than the median, which is often greater than the mode.\n",
        "- Negative Skewness (Left Skew):\n",
        "The tail on the left side of the distribution is longer and fatter than the right side. The mean is less than the median, which is often less than the mode.\n",
        "-Understanding Skewness:\n",
        " - Outliers:\n",
        "Skewness can be influenced by outliers, which are extreme values that are far from the majority of the data points.\n",
        " - Mean vs. Median:\n",
        "Skewness often leads to a difference between the mean and median. The mean is more sensitive to outliers, while the median is more resistant.\n",
        " - Data Transformations:\n",
        "Skewness can be a problem in some analyses, so data transformations like taking the square root or logarithm can be used to reduce or eliminate skewness."
      ],
      "metadata": {
        "id": "l5btiU_g-s3D"
      }
    },
    {
      "cell_type": "markdown",
      "source": [
        "19. What does it mean if a dataset is positively or negatively skewed?\n",
        "-  In a dataset, positive skewness means the distribution is skewed to the right, with the longer tail extending towards higher values. This indicates that most data points cluster around the lower end of the range, and a few extreme high values pull the mean higher than the median. Negative skewness, on the other hand, means the distribution is skewed to the left, with the longer tail extending towards lower values. Here, most data points cluster around the higher end of the range, and a few extreme low values pull the mean lower than the median."
      ],
      "metadata": {
        "id": "jBladmmR_Jvk"
      }
    },
    {
      "cell_type": "markdown",
      "source": [
        "20. Define and explain kurtosis.\n",
        "-  Kurtosis is a measure of the tailedness of a distribution. Tailedness is how often outliers occur. Excess kurtosis is the tailedness of a distribution relative to a normal distribution. Distributions with medium kurtosis (medium tails) are mesokurtic. Distributions with low kurtosis (thin tails) are platykurtic."
      ],
      "metadata": {
        "id": "IfKKSLrI_cF3"
      }
    },
    {
      "cell_type": "markdown",
      "source": [
        "21. What is the purpose of covariance?\n",
        "-   The covariance equation is used to determine the direction of the relationship between two variables—in other words, whether they tend to move in the same or opposite directions"
      ],
      "metadata": {
        "id": "0MUvj0zc_tDF"
      }
    },
    {
      "cell_type": "markdown",
      "source": [
        "22. What does correlation measure in statistics?\n",
        "-  In statistics, correlation measures the strength and direction of the relationship between two variables. It quantifies how much one variable tends to change in relation to changes in another. Correlation does not imply causation; it simply indicates an association between variables.\n",
        "\n",
        "Key aspects of correlation:\n",
        "- Strength:\n",
        "The correlation coefficient (typically denoted as \"r\") ranges from -1 to +1. A value of 1 indicates a perfect positive linear relationship, -1 a perfect negative linear relationship, and 0 no linear relationship.\n",
        "- Direction:\n",
        "The sign of the correlation coefficient indicates the direction of the relationship. A positive correlation means the variables move in the same direction (e.g., as one increases, the other tends to increase), while a negative correlation means they move in opposite directions (e.g., as one increases, the other tends to decrease).\n",
        "- Linearity:\n",
        "Correlation is most useful when there is a linear relationship between the variables, meaning the relationship can be reasonably represented by a straight line.\n",
        "- Not Causation:\n",
        "Correlation does not mean that one variable causes the other. There may be other factors (confounding variables) influencing both variables, or a third variable could be the cause of both."
      ],
      "metadata": {
        "id": "N6NW1WB1_2OE"
      }
    },
    {
      "cell_type": "markdown",
      "source": [
        "24. What are some real-world applications of statistics?\n",
        "-  Statistics is everywhere—it powers decision-making in science, business, healthcare, sports, and everyday life. Here are some fascinating real-world applications:\n",
        "1. Healthcare & Medicine\n",
        "- Disease Tracking: Epidemiologists use statistics to monitor disease outbreaks and predict their spread.\n",
        "- Clinical Trials: Statistical methods determine the effectiveness of new drugs and treatments.\n",
        "- Medical Imaging: Techniques like MRI and CT scans rely on statistical models to enhance image clarity.\n",
        "2. Business & Economics\n",
        "- Market Research: Businesses analyze consumer preferences to improve products.\n",
        "- Stock Market Analysis: Predicting trends and risks using statistical models.\n",
        "- Quality Control: Factories apply statistical methods to ensure consistent product quality.\n",
        "3. Education & Psychology\n",
        "- Standardized Testing: Exam scores help evaluate student performance.\n",
        "- Behavioral Research: Psychologists use statistics to understand human behavior patterns.\n",
        "- Education Policy: Governments analyze student data to improve education systems.\n",
        "4. Sports & Entertainment\n",
        "- Player Performance Analysis: Coaches evaluate statistics to refine team strategy.\n",
        "- Sports Betting & Predictions: Statistical models forecast game outcomes.\n",
        "- Movie & TV Ratings: Viewer data helps studios decide on future productions.\n",
        "5. Government & Policy Making\n",
        "- Census Data: Governments use statistics to allocate resources and plan infrastructure.\n",
        "- Crime Analysis: Law enforcement predicts crime trends to improve security measures.\n",
        "- Economic Planning: GDP, inflation rates, and unemployment statistics shape national policies.\n",
        "6. Environmental Science & Climate Studies\n",
        "- Weather Forecasting: Meteorologists analyze historical data to predict storms and climate changes.\n",
        "- Pollution Control: Scientists assess environmental data to track air and water quality.\n",
        "- Wildlife Conservation: Population statistics help protect endangered species.\n",
        "7. Everyday Life\n",
        "- Personal Finance: People use statistics to manage investments and savings.\n",
        "- Traffic Management: City planners optimize road layouts based on traffic data.\n",
        "- Social Media Algorithms: Platforms use statistics to recommend content you’d enjoy.\n"
      ],
      "metadata": {
        "id": "LA0pFkAgAKYG"
      }
    },
    {
      "cell_type": "code",
      "source": [
        "# How do you calculate the mean, median, and mode of a dataset?\n",
        "\n",
        "import numpy as np\n",
        "import pandas as pd\n",
        "from scipy import stats\n",
        "\n",
        "\n",
        "data = [5, 10, 15, 20, 10, 10, 25, 30]\n",
        "\n",
        "\n",
        "mean_value = np.mean(data)\n",
        "\n",
        "\n",
        "median_value = np.median(data)\n",
        "\n",
        "\n",
        "mode_value = stats.mode(data, keepdims=False).mode\n",
        "\n",
        "\n",
        "print(f\"Mean: {mean_value}\")\n",
        "print(f\"Median: {median_value}\")\n",
        "print(f\"Mode: {mode_value}\")\n"
      ],
      "metadata": {
        "colab": {
          "base_uri": "https://localhost:8080/"
        },
        "id": "RGs9xBO7A1yY",
        "outputId": "717b85a1-08e8-4e43-cfdf-53158fa5a83b"
      },
      "execution_count": 1,
      "outputs": [
        {
          "output_type": "stream",
          "name": "stdout",
          "text": [
            "Mean: 15.625\n",
            "Median: 12.5\n",
            "Mode: 10\n"
          ]
        }
      ]
    },
    {
      "cell_type": "code",
      "source": [
        "# Write a Python program to compute the variance and standard deviation of a dataset.\n",
        "import numpy as np\n",
        "\n",
        "\n",
        "data = [5, 10, 15, 20, 25, 30, 35, 40]\n",
        "\n",
        "\n",
        "population_variance = np.var(data)\n",
        "sample_variance = np.var(data, ddof=1)\n",
        "\n",
        "\n",
        "population_std_dev = np.std(data)\n",
        "sample_std_dev = np.std(data, ddof=1)\n",
        "\n",
        "\n",
        "print(f\"Population Variance: {population_variance}\")\n",
        "print(f\"Sample Variance: {sample_variance}\")\n",
        "print(f\"Population Standard Deviation: {population_std_dev}\")\n",
        "print(f\"Sample Standard Deviation: {sample_std_dev}\")"
      ],
      "metadata": {
        "colab": {
          "base_uri": "https://localhost:8080/"
        },
        "id": "bmafl2VRBBAN",
        "outputId": "ed7ea71b-c090-4e8d-e31f-edd38a134de3"
      },
      "execution_count": 2,
      "outputs": [
        {
          "output_type": "stream",
          "name": "stdout",
          "text": [
            "Population Variance: 131.25\n",
            "Sample Variance: 150.0\n",
            "Population Standard Deviation: 11.4564392373896\n",
            "Sample Standard Deviation: 12.24744871391589\n"
          ]
        }
      ]
    },
    {
      "cell_type": "code",
      "source": [
        "# Create a dataset and classify it into nominal, ordinal, interval, and ratio types.\n",
        "import pandas as pd\n",
        "\n",
        "data = {\n",
        "    \"Student\": [\"Alice\", \"Bob\", \"Charlie\", \"David\"],\n",
        "    \"Favorite Color (Nominal)\": [\"Blue\", \"Red\", \"Green\", \"Yellow\"],\n",
        "    \"Exam Grade (Ordinal)\": [\"A\", \"B\", \"C\", \"A\"],\n",
        "    \"Temperature (°C) (Interval)\": [22, 25, 28, 21],\n",
        "    \"Height (cm) (Ratio)\": [160, 170, 165, 175]\n",
        "}\n",
        "\n",
        "df = pd.DataFrame(data)\n",
        "\n",
        "print(df)\n",
        "\n",
        "print(\"\\nData Type Classification:\")\n",
        "print(\"Nominal: Favorite Color\")\n",
        "print(\"Ordinal: Exam Grade\")\n",
        "print(\"Interval: Temperature (°C)\")\n",
        "print(\"Ratio: Height (cm)\")"
      ],
      "metadata": {
        "colab": {
          "base_uri": "https://localhost:8080/"
        },
        "id": "F2931ddQBZgR",
        "outputId": "36aae727-baa3-4957-d58a-e79bd1b01ddf"
      },
      "execution_count": 3,
      "outputs": [
        {
          "output_type": "stream",
          "name": "stdout",
          "text": [
            "   Student Favorite Color (Nominal) Exam Grade (Ordinal)  \\\n",
            "0    Alice                     Blue                    A   \n",
            "1      Bob                      Red                    B   \n",
            "2  Charlie                    Green                    C   \n",
            "3    David                   Yellow                    A   \n",
            "\n",
            "   Temperature (°C) (Interval)  Height (cm) (Ratio)  \n",
            "0                           22                  160  \n",
            "1                           25                  170  \n",
            "2                           28                  165  \n",
            "3                           21                  175  \n",
            "\n",
            "Data Type Classification:\n",
            "Nominal: Favorite Color\n",
            "Ordinal: Exam Grade\n",
            "Interval: Temperature (°C)\n",
            "Ratio: Height (cm)\n"
          ]
        }
      ]
    },
    {
      "cell_type": "code",
      "source": [
        "# Implement sampling techniques like random sampling and stratified sampling.\n",
        "import pandas as pd\n",
        "import numpy as np\n",
        "from sklearn.model_selection import train_test_split\n",
        "\n",
        "data = {\n",
        "    \"ID\": range(1, 21),\n",
        "    \"Age\": np.random.randint(18, 60, 20),\n",
        "    \"Income\": np.random.randint(30000, 100000, 20),\n",
        "    \"Category\": np.random.choice([\"A\", \"B\", \"C\"], 20)\n",
        "}\n",
        "\n",
        "df = pd.DataFrame(data)\n",
        "\n",
        "print(\"Original Dataset:\\n\", df)\n",
        "\n",
        "random_sample = df.sample(n=5, random_state=42)\n",
        "print(\"\\nRandom Sample:\\n\", random_sample)\n",
        "\n",
        "stratified_sample, _ = train_test_split(df, test_size=0.75, stratify=df[\"Category\"], random_state=42)\n",
        "print(\"\\nStratified Sample:\\n\", stratified_sample)"
      ],
      "metadata": {
        "colab": {
          "base_uri": "https://localhost:8080/"
        },
        "id": "1kSChO66Bouq",
        "outputId": "50510052-db5d-4421-95a7-2de5778ae38e"
      },
      "execution_count": 4,
      "outputs": [
        {
          "output_type": "stream",
          "name": "stdout",
          "text": [
            "Original Dataset:\n",
            "     ID  Age  Income Category\n",
            "0    1   58   48044        A\n",
            "1    2   23   55391        B\n",
            "2    3   27   39480        C\n",
            "3    4   25   82009        B\n",
            "4    5   32   36831        C\n",
            "5    6   21   73393        B\n",
            "6    7   55   64809        B\n",
            "7    8   47   36910        A\n",
            "8    9   48   48678        A\n",
            "9   10   47   48677        B\n",
            "10  11   27   98363        B\n",
            "11  12   23   84015        C\n",
            "12  13   26   87829        C\n",
            "13  14   31   42823        B\n",
            "14  15   20   84260        A\n",
            "15  16   41   78924        C\n",
            "16  17   33   69132        B\n",
            "17  18   23   78045        C\n",
            "18  19   34   57951        B\n",
            "19  20   42   89722        A\n",
            "\n",
            "Random Sample:\n",
            "     ID  Age  Income Category\n",
            "0    1   58   48044        A\n",
            "17  18   23   78045        C\n",
            "15  16   41   78924        C\n",
            "1    2   23   55391        B\n",
            "8    9   48   48678        A\n",
            "\n",
            "Stratified Sample:\n",
            "     ID  Age  Income Category\n",
            "7    8   47   36910        A\n",
            "1    2   23   55391        B\n",
            "2    3   27   39480        C\n",
            "10  11   27   98363        B\n",
            "4    5   32   36831        C\n"
          ]
        }
      ]
    },
    {
      "cell_type": "code",
      "source": [
        "# Write a Python function to calculate the range of a dataset?\n",
        "import numpy as np\n",
        "\n",
        "def calculate_range(data):\n",
        "    data_range = max(data) - min(data)\n",
        "    return data_range\n",
        "\n",
        "data = [10, 20, 30, 40, 50]\n",
        "range_value = calculate_range(data)\n",
        "print(f\"The range of the dataset is: {range_value}\")"
      ],
      "metadata": {
        "colab": {
          "base_uri": "https://localhost:8080/"
        },
        "id": "tuvt3rQfB5qa",
        "outputId": "94b4ac8f-ec6a-45aa-9c03-b2d5be0aba93"
      },
      "execution_count": 5,
      "outputs": [
        {
          "output_type": "stream",
          "name": "stdout",
          "text": [
            "The range of the dataset is: 40\n"
          ]
        }
      ]
    },
    {
      "cell_type": "code",
      "source": [
        "#Create a dataset and plot its histogram to visualize skewness.\n",
        "import pandas as pd\n",
        "import matplotlib.pyplot as plt\n",
        "import matplotlib.pyplot as plt\n",
        "import seaborn as sns\n",
        "from scipy.stats import skew\n",
        "\n",
        "np.random.seed(42)\n",
        "data = np.random.exponential(scale=10, size=1000)\n",
        "\n",
        "df = pd.DataFrame(data, columns=[\"Values\"])\n",
        "\n",
        "skewness_value = skew(df[\"Values\"])\n",
        "\n",
        "plt.figure(figsize=(8, 5))\n",
        "sns.histplot(df[\"Values\"], bins=30, kde=True, color=\"blue\")\n",
        "plt.axvline(df[\"Values\"].mean(), color=\"red\", linestyle=\"dashed\", label=f'Mean: {df[\"Values\"].mean():.2f}')\n",
        "plt.axvline(df[\"Values\"].median(), color=\"green\", linestyle=\"dashed\", label=f'Median: {df[\"Values\"].median():.2f}')\n",
        "plt.legend()\n",
        "plt.title(f\"Histogram Showing Skewness (Skewness = {skewness_value:.2f})\")\n",
        "plt.xlabel(\"Data Values\")\n",
        "plt.ylabel(\"Frequency\")\n",
        "plt.show()\n",
        "\n"
      ],
      "metadata": {
        "colab": {
          "base_uri": "https://localhost:8080/",
          "height": 487
        },
        "id": "iLERGm2xCFNf",
        "outputId": "b68dc239-deac-4fe0-c86c-e308122ac9ac"
      },
      "execution_count": 7,
      "outputs": [
        {
          "output_type": "display_data",
          "data": {
            "text/plain": [
              "<Figure size 800x500 with 1 Axes>"
            ],
            "image/png": "[encoded data removed]"
          },
          "metadata": {}
        }
      ]
    },
    {
      "cell_type": "code",
      "source": [
        "# Generate a dataset and demonstrate positive and negative skewness.\n",
        "import numpy as np\n",
        "import pandas as pd\n",
        "import matplotlib.pyplot as plt\n",
        "import seaborn as sns\n",
        "from scipy.stats import skew\n",
        "\n",
        "np.random.seed(42)\n",
        "positive_skew = np.random.exponential(scale=10, size=1000)\n",
        "negative_skew = np.random.normal(loc=50, scale=15, size=1000)\n",
        "negative_skew = np.power(negative_skew, 2)\n",
        "\n",
        "data = {\n",
        "    \"Positive Skew\": positive_skew,\n",
        "    \"Negative Skew\": negative_skew\n",
        "}\n",
        "\n",
        "df = pd.DataFrame(data)\n",
        "\n",
        "plt.figure(figsize=(12, 6))\n"
      ],
      "metadata": {
        "colab": {
          "base_uri": "https://localhost:8080/",
          "height": 52
        },
        "id": "c1qeKLcRCR5p",
        "outputId": "0d48cbcc-b889-45e8-a9ad-af5de89440bb"
      },
      "execution_count": 8,
      "outputs": [
        {
          "output_type": "execute_result",
          "data": {
            "text/plain": [
              "<Figure size 1200x600 with 0 Axes>"
            ]
          },
          "metadata": {},
          "execution_count": 8
        },
        {
          "output_type": "display_data",
          "data": {
            "text/plain": [
              "<Figure size 1200x600 with 0 Axes>"
            ]
          },
          "metadata": {}
        }
      ]
    },
    {
      "cell_type": "code",
      "source": [
        "#  Write a Python script to calculate covariance between two datasets.\n",
        "import numpy as np\n",
        "\n",
        "\n",
        "dataset_x = [10, 20, 30, 40, 50]\n",
        "dataset_y = [15, 25, 35, 45, 55]\n",
        "\n",
        "\n",
        "x = np.array(dataset_x)\n",
        "y = np.array(dataset_y)\n",
        "\n",
        "cov_matrix = np.cov(x, y, bias=True)\n",
        "\n",
        "covariance = cov_matrix[0, 1]\n",
        "\n",
        "print(\"Covariance Matrix:\\n\", cov_matrix)\n",
        "print(f\"\\nCovariance between X and Y: {covariance}\")"
      ],
      "metadata": {
        "colab": {
          "base_uri": "https://localhost:8080/"
        },
        "id": "pyAiun8DDL_l",
        "outputId": "b399984c-7e3e-4249-f0c3-5e6f7bd691ce"
      },
      "execution_count": 9,
      "outputs": [
        {
          "output_type": "stream",
          "name": "stdout",
          "text": [
            "Covariance Matrix:\n",
            " [[200. 200.]\n",
            " [200. 200.]]\n",
            "\n",
            "Covariance between X and Y: 200.0\n"
          ]
        }
      ]
    },
    {
      "cell_type": "code",
      "source": [
        "# Write a Python script to calculate the correlation coefficient between two datasets.\n",
        "import numpy as np\n",
        "from scipy.stats import pearsonr\n",
        "\n",
        "dataset_x = [10, 20, 30, 40, 50]\n",
        "dataset_y = [15, 25, 35, 45, 55]\n",
        "\n",
        "x = np.array(dataset_x)\n",
        "y = np.array(dataset_y)\n",
        "\n",
        "correlation_matrix = np.corrcoef(x, y)\n",
        "pearson_corr, _ = pearsonr(x, y)\n",
        "\n",
        "correlation_coefficient = correlation_matrix[0, 1]\n",
        "\n",
        "print(\"Correlation Matrix:\\n\", correlation_matrix)\n",
        "print(f\"\\nPearson Correlation Coefficient (NumPy): {correlation_coefficient:.2f}\")\n",
        "print(f\"Pearson Correlation Coefficient (SciPy): {pearson_corr:.2f}\")"
      ],
      "metadata": {
        "colab": {
          "base_uri": "https://localhost:8080/"
        },
        "id": "qfHmd54RDJKa",
        "outputId": "1014d85b-eba5-4efe-9754-4c02a2d32604"
      },
      "execution_count": 10,
      "outputs": [
        {
          "output_type": "stream",
          "name": "stdout",
          "text": [
            "Correlation Matrix:\n",
            " [[1. 1.]\n",
            " [1. 1.]]\n",
            "\n",
            "Pearson Correlation Coefficient (NumPy): 1.00\n",
            "Pearson Correlation Coefficient (SciPy): 1.00\n"
          ]
        }
      ]
    },
    {
      "cell_type": "code",
      "source": [
        "# Create a scatter plot to visualize the relationship between two variables.\n",
        "import numpy as np\n",
        "import pandas as pd\n",
        "import matplotlib.pyplot as plt\n",
        "import seaborn as sns\n",
        "\n",
        "np.random.seed(42)\n",
        "x = np.random.randint(10, 100, 50)\n",
        "y = x * 1.5 + np.random.randint(-20, 20, 50)\n",
        "\n",
        "df = pd.DataFrame({\"X Variable\": x, \"Y Variable\": y})\n",
        "\n",
        "plt.figure(figsize=(8, 5))\n",
        "sns.scatterplot(x=\"X Variable\", y=\"Y Variable\", data=df, color=\"blue\", edgecolor=\"black\")\n",
        "\n",
        "plt.xlabel(\"Advertising Budget ($)\")\n",
        "plt.ylabel(\"Sales Revenue ($)\")\n",
        "plt.title(\"Scatter Plot of Advertising Budget vs. Sales Revenue\")\n",
        "\n",
        "plt.show()"
      ],
      "metadata": {
        "colab": {
          "base_uri": "https://localhost:8080/",
          "height": 487
        },
        "id": "3-OPBjhoDuWC",
        "outputId": "be3428d1-7ba9-4de5-a49b-9df34fe20f68"
      },
      "execution_count": 11,
      "outputs": [
        {
          "output_type": "display_data",
          "data": {
            "text/plain": [
              "<Figure size 800x500 with 1 Axes>"
            ],
            "image/png": "[encoded data removed]"
          },
          "metadata": {}
        }
      ]
    },
    {
      "cell_type": "code",
      "source": [
        "#  Implement and compare simple random sampling and systematic sampling.\n",
        "import pandas as pd\n",
        "import numpy as np\n",
        "\n",
        "data = {\n",
        "    \"ID\": range(1, 21),\n",
        "    \"Age\": np.random.randint(18, 60, 20),\n",
        "    \"Income\": np.random.randint(30000, 100000, 20)\n",
        "}\n",
        "\n",
        "df = pd.DataFrame(data)\n",
        "\n",
        "print(\"Original Dataset:\\n\", df)\n",
        "\n",
        "\n",
        "random_sample = df.sample(n=5, random_state=42)\n",
        "print(\"\\nSimple Random Sample:\\n\", random_sample)\n",
        "\n",
        "k = len(df) // 5\n",
        "systematic_sample = df.iloc[::k]\n",
        "\n",
        "print(\"\\nSystematic Sample:\\n\", systematic_sample)\n"
      ],
      "metadata": {
        "colab": {
          "base_uri": "https://localhost:8080/"
        },
        "id": "o7fJjPX3D_-S",
        "outputId": "efc31e4e-1d3a-4c12-9305-f5bd247c48c1"
      },
      "execution_count": 12,
      "outputs": [
        {
          "output_type": "stream",
          "name": "stdout",
          "text": [
            "Original Dataset:\n",
            "     ID  Age  Income\n",
            "0    1   52   38110\n",
            "1    2   50   57266\n",
            "2    3   22   82992\n",
            "3    4   59   36910\n",
            "4    5   56   30206\n",
            "5    6   58   53419\n",
            "6    7   45   80636\n",
            "7    8   24   80015\n",
            "8    9   26   84268\n",
            "9   10   25   48141\n",
            "10  11   29   86044\n",
            "11  12   51   97214\n",
            "12  13   50   63827\n",
            "13  14   40   85820\n",
            "14  15   41   92623\n",
            "15  16   54   52299\n",
            "16  17   52   73585\n",
            "17  18   57   94044\n",
            "18  19   39   72557\n",
            "19  20   44   79080\n",
            "\n",
            "Simple Random Sample:\n",
            "     ID  Age  Income\n",
            "0    1   52   38110\n",
            "17  18   57   94044\n",
            "15  16   54   52299\n",
            "1    2   50   57266\n",
            "8    9   26   84268\n",
            "\n",
            "Systematic Sample:\n",
            "     ID  Age  Income\n",
            "0    1   52   38110\n",
            "4    5   56   30206\n",
            "8    9   26   84268\n",
            "12  13   50   63827\n",
            "16  17   52   73585\n"
          ]
        }
      ]
    },
    {
      "cell_type": "code",
      "source": [
        "# Calculate the mean, median, and mode of grouped data.\n",
        "import pandas as pd\n",
        "import numpy as np\n",
        "\n",
        "data = {\n",
        "    \"ID\": range(1, 21),\n",
        "    \"Age\": np.random.randint(18, 60, 20),\n",
        "    \"Income\": np.random.randint(30000, 100000, 20)\n",
        "}\n",
        "\n",
        "df = pd.DataFrame(data)\n",
        "\n",
        "print(\"Original Dataset:\\n\", df)\n",
        "\n",
        "\n",
        "random_sample = df.sample(n=5, random_state=42)\n",
        "print(\"\\nSimple Random Sample:\\n\", random_sample)\n",
        "\n",
        "\n",
        "k = len(df) // 5\n",
        "systematic_sample = df.iloc[::k]\n",
        "\n",
        "print(\"\\nSystematic Sample:\\n\", systematic_sample)\n"
      ],
      "metadata": {
        "colab": {
          "base_uri": "https://localhost:8080/"
        },
        "id": "E3tuK24bD-1B",
        "outputId": "6407bb8c-5c90-42f0-8aaa-0fd87a4e27c3"
      },
      "execution_count": 13,
      "outputs": [
        {
          "output_type": "stream",
          "name": "stdout",
          "text": [
            "Original Dataset:\n",
            "     ID  Age  Income\n",
            "0    1   23   33748\n",
            "1    2   45   43545\n",
            "2    3   45   96199\n",
            "3    4   37   64766\n",
            "4    5   47   91087\n",
            "5    6   28   98840\n",
            "6    7   45   84384\n",
            "7    8   42   81005\n",
            "8    9   56   76576\n",
            "9   10   50   69353\n",
            "10  11   18   92003\n",
            "11  12   44   82733\n",
            "12  13   30   95318\n",
            "13  14   58   53664\n",
            "14  15   20   97172\n",
            "15  16   56   56736\n",
            "16  17   23   30854\n",
            "17  18   25   68623\n",
            "18  19   44   37392\n",
            "19  20   26   85680\n",
            "\n",
            "Simple Random Sample:\n",
            "     ID  Age  Income\n",
            "0    1   23   33748\n",
            "17  18   25   68623\n",
            "15  16   56   56736\n",
            "1    2   45   43545\n",
            "8    9   56   76576\n",
            "\n",
            "Systematic Sample:\n",
            "     ID  Age  Income\n",
            "0    1   23   33748\n",
            "4    5   47   91087\n",
            "8    9   56   76576\n",
            "12  13   30   95318\n",
            "16  17   23   30854\n"
          ]
        }
      ]
    },
    {
      "cell_type": "code",
      "source": [
        "# Simulate data using Python and calculate its central tendency and dispersion.\n",
        "import numpy as np\n",
        "import pandas as pd\n",
        "import matplotlib.pyplot as plt\n",
        "import seaborn as sns\n",
        "from scipy.stats import mode\n",
        "\n",
        "np.random.seed(42)\n",
        "data = np.random.normal(loc=50, scale=15, size=1000)\n",
        "\n",
        "df = pd.DataFrame(data, columns=[\"Values\"])\n",
        "\n",
        "mean_value = np.mean(df[\"Values\"])\n",
        "median_value = np.median(df[\"Values\"])\n",
        "mode_value = mode(df[\"Values\"], keepdims=False).mode\n",
        "\n",
        "variance_value = np.var(df[\"Values\"], ddof=1)\n",
        "std_dev_value = np.std(df[\"Values\"], ddof=1)\n",
        "\n",
        "print(f\"Mean: {mean_value:.2f}\")\n",
        "print(f\"Median: {median_value:.2f}\")\n",
        "print(f\"Mode: {mode_value:.2f}\")\n",
        "print(f\"Variance: {variance_value:.2f}\")\n",
        "print(f\"Standard Deviation: {std_dev_value:.2f}\")\n",
        "\n",
        "plt.figure(figsize=(8, 5))\n",
        "sns.histplot(df[\"Values\"], bins=30, kde=True, color=\"blue\")\n",
        "plt.axvline(mean_value, color=\"red\", linestyle=\"dashed\", label=f'Mean: {mean_value:.2f}')\n",
        "plt.axvline(median_value, color=\"green\", linestyle=\"dashed\", label=f'Median: {median_value:.2f}')\n",
        "plt.legend()\n",
        "plt.title(\"Simulated Data - Central Tendency & Dispersion\")\n",
        "plt.xlabel(\"Data Values\")\n",
        "plt.ylabel(\"Frequency\")\n",
        "plt.show()"
      ],
      "metadata": {
        "colab": {
          "base_uri": "https://localhost:8080/",
          "height": 574
        },
        "id": "uKFE92p-EoTJ",
        "outputId": "261020f8-358f-4574-b31a-d8538b91a511"
      },
      "execution_count": 14,
      "outputs": [
        {
          "output_type": "stream",
          "name": "stdout",
          "text": [
            "Mean: 50.29\n",
            "Median: 50.38\n",
            "Mode: 1.38\n",
            "Variance: 215.74\n",
            "Standard Deviation: 14.69\n"
          ]
        },
        {
          "output_type": "display_data",
          "data": {
            "text/plain": [
              "<Figure size 800x500 with 1 Axes>"
            ],
            "image/png": "[encoded data removed]"
          },
          "metadata": {}
        }
      ]
    },
    {
      "cell_type": "code",
      "source": [
        "# Use NumPy or pandas to summarize a dataset’s descriptive statistics\n",
        "import numpy as np\n",
        "import pandas as pd\n",
        "\n",
        "data = {\n",
        "    \"Age\": np.random.randint(18, 60, 100),\n",
        "    \"Income\": np.random.randint(30000, 150000, 100),\n",
        "    \"Experience (Years)\": np.random.randint(1, 40, 100)\n",
        "}\n",
        "\n",
        "df = pd.DataFrame(data)\n",
        "\n",
        "summary = df.describe()\n",
        "\n",
        "print(\"\\nDescriptive Statistics:\\n\", summary)"
      ],
      "metadata": {
        "colab": {
          "base_uri": "https://localhost:8080/"
        },
        "id": "STcElwf9E6Za",
        "outputId": "1c05b9c3-6bed-49b9-fa8e-adf9ca09f22a"
      },
      "execution_count": 15,
      "outputs": [
        {
          "output_type": "stream",
          "name": "stdout",
          "text": [
            "\n",
            "Descriptive Statistics:\n",
            "               Age         Income  Experience (Years)\n",
            "count  100.000000     100.000000          100.000000\n",
            "mean    39.030000   95954.700000           18.760000\n",
            "std     12.533958   34413.009132           11.196248\n",
            "min     19.000000   30281.000000            1.000000\n",
            "25%     28.000000   65114.000000            8.750000\n",
            "50%     38.000000  100697.500000           19.000000\n",
            "75%     50.250000  124955.750000           28.000000\n",
            "max     59.000000  149273.000000           39.000000\n"
          ]
        }
      ]
    },
    {
      "cell_type": "code",
      "source": [
        "#  Plot a boxplot to understand the spread and identify outliers.\n",
        "import numpy as np\n",
        "import pandas as pd\n",
        "import matplotlib.pyplot as plt\n",
        "import seaborn as sns\n",
        "\n",
        "np.random.seed(42)\n",
        "data = np.random.normal(loc=50, scale=15, size=100)\n",
        "data = np.append(data, [120, 130, 5, 3])\n",
        "\n",
        "df = pd.DataFrame(data, columns=[\"Values\"])\n",
        "\n",
        "plt.figure(figsize=(8, 5))\n",
        "sns.boxplot(x=df[\"Values\"], color=\"lightblue\")\n",
        "\n",
        "plt.title(\"Boxplot to Visualize Spread and Identify Outliers\")\n",
        "plt.xlabel(\"Values\")\n",
        "\n",
        "plt.show()"
      ],
      "metadata": {
        "colab": {
          "base_uri": "https://localhost:8080/",
          "height": 487
        },
        "id": "yj_4CN7xFFuZ",
        "outputId": "0e2e1299-5664-425c-bb06-cbecfa86a5b3"
      },
      "execution_count": 16,
      "outputs": [
        {
          "output_type": "display_data",
          "data": {
            "text/plain": [
              "<Figure size 800x500 with 1 Axes>"
            ],
            "image/png": "[encoded data removed]"
          },
          "metadata": {}
        }
      ]
    },
    {
      "cell_type": "code",
      "source": [
        "# Calculate the interquartile range (IQR) of a dataset.\n",
        "import numpy as np\n",
        "import pandas as pd\n",
        "\n",
        "data = [5, 10, 15, 20, 25, 30, 35, 40, 45, 50]\n",
        "\n",
        "df = pd.DataFrame(data, columns=[\"Values\"])\n",
        "\n",
        "Q1 = np.percentile(df[\"Values\"], 25)\n",
        "Q3 = np.percentile(df[\"Values\"], 75)\n",
        "\n",
        "IQR = Q3 - Q1\n",
        "\n",
        "print(f\"Q1 (25th percentile): {Q1}\")\n",
        "print(f\"Q3 (75th percentile): {Q3}\")\n",
        "print(f\"Interquartile Range (IQR): {IQR}\")"
      ],
      "metadata": {
        "colab": {
          "base_uri": "https://localhost:8080/"
        },
        "id": "GlyoQ13FFflD",
        "outputId": "93744a9b-3043-4a88-ab65-2c19c614accd"
      },
      "execution_count": 18,
      "outputs": [
        {
          "output_type": "stream",
          "name": "stdout",
          "text": [
            "Q1 (25th percentile): 16.25\n",
            "Q3 (75th percentile): 38.75\n",
            "Interquartile Range (IQR): 22.5\n"
          ]
        }
      ]
    },
    {
      "cell_type": "code",
      "source": [
        "# Compare two datasets using their standard deviations.\n",
        "import numpy as np\n",
        "import pandas as pd\n",
        "\n",
        "dataset1 = np.random.normal(loc=50, scale=10, size=100)\n",
        "dataset2 = np.random.normal(loc=50, scale=20, size=100)\n",
        "\n",
        "df = pd.DataFrame({\"Dataset 1\": dataset1, \"Dataset 2\": dataset2})\n",
        "\n",
        "std_dev1 = np.std(df[\"Dataset 1\"], ddof=1)\n",
        "std_dev2 = np.std(df[\"Dataset 2\"], ddof=1)\n",
        "\n",
        "print(f\"Standard Deviation of Dataset 1: {std_dev1:.2f}\")\n",
        "print(f\"Standard Deviation of Dataset 2: {std_dev2:.2f}\")\n",
        "\n",
        "if std_dev1 > std_dev2:\n",
        "    print(\"Dataset 1 has more variability.\")\n",
        "elif std_dev1 < std_dev2:\n",
        "    print(\"Dataset 2 has more variability.\")\n",
        "else:\n",
        "    print(\"Both datasets have similar variability.\")"
      ],
      "metadata": {
        "colab": {
          "base_uri": "https://localhost:8080/"
        },
        "id": "09rc-KZNF2XC",
        "outputId": "ca4c3d60-2d1d-4aac-b98c-9dbe9645ca8c"
      },
      "execution_count": 19,
      "outputs": [
        {
          "output_type": "stream",
          "name": "stdout",
          "text": [
            "Standard Deviation of Dataset 1: 9.54\n",
            "Standard Deviation of Dataset 2: 21.69\n",
            "Dataset 2 has more variability.\n"
          ]
        }
      ]
    },
    {
      "cell_type": "code",
      "source": [
        "# Write a Python program to visualize covariance using a heatmap.\n",
        "import numpy as np\n",
        "import pandas as pd\n",
        "import seaborn as sns\n",
        "import matplotlib.pyplot as plt\n",
        "\n",
        "np.random.seed(42)\n",
        "data = {\n",
        "    \"Feature 1\": np.random.randint(10, 100, 50),\n",
        "    \"Feature 2\": np.random.randint(20, 200, 50),\n",
        "    \"Feature 3\": np.random.randint(5, 150, 50),\n",
        "}\n",
        "\n",
        "df = pd.DataFrame(data)\n",
        "\n",
        "cov_matrix = df.cov()\n",
        "\n",
        "plt.figure(figsize=(6, 5))\n",
        "sns.heatmap(cov_matrix, annot=True, cmap=\"coolwarm\", fmt=\".2f\", linewidths=0.5)\n",
        "\n",
        "plt.title(\"Covariance Matrix Heatmap\")\n",
        "\n",
        "plt.show()"
      ],
      "metadata": {
        "colab": {
          "base_uri": "https://localhost:8080/",
          "height": 468
        },
        "id": "Z84nj1yZGaQ7",
        "outputId": "479c26d4-9277-49c9-9692-9eb48d8093dc"
      },
      "execution_count": 20,
      "outputs": [
        {
          "output_type": "display_data",
          "data": {
            "text/plain": [
              "<Figure size 600x500 with 2 Axes>"
            ],
            "image/png": "[encoded data removed]"
          },
          "metadata": {}
        }
      ]
    },
    {
      "cell_type": "code",
      "source": [],
      "metadata": {
        "id": "A4EkkKlqGqOR"
      },
      "execution_count": null,
      "outputs": []
    }
  ]
}